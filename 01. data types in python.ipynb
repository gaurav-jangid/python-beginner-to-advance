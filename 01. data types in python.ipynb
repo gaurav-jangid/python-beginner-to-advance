{
 "cells": [
  {
   "cell_type": "code",
   "execution_count": null,
   "metadata": {},
   "outputs": [],
   "source": [
    "Data types\n",
    "\n",
    "1. Numbers\n",
    "2. Strings(44 functions)\n",
    "3. Dictionary(11 functions)\n",
    "4. Tuples (2 functions)\n",
    "6. sets (17 functions)\n",
    "7. frozenset"
   ]
  },
  {
   "cell_type": "code",
   "execution_count": null,
   "metadata": {},
   "outputs": [],
   "source": []
  },
  {
   "cell_type": "code",
   "execution_count": null,
   "metadata": {},
   "outputs": [],
   "source": [
    "1. Numbers\n",
    "There are three built in data types for numbers\n",
    "\n",
    "a) intergers (8classes)\n",
    "b) Floats (7classes)\n",
    "c) Complex (3 classes)"
   ]
  },
  {
   "cell_type": "code",
   "execution_count": 3,
   "metadata": {},
   "outputs": [
    {
     "name": "stdout",
     "output_type": "stream",
     "text": [
      "a = 8039069 type of a =  <class 'int'>\n",
      "a1 =  117418 type of a1 =  <class 'int'>\n",
      "b =  0xf type = b <class 'str'>\n",
      "c =  15\n",
      "0xc0ffee in integer =  65518\n",
      "\n",
      "Directory of complex class ::\n",
      " ['__abs__', '__add__', '__bool__', '__class__', '__delattr__', '__dir__', '__divmod__', '__doc__', '__eq__', '__float__', '__floordiv__', '__format__', '__ge__', '__getattribute__', '__getnewargs__', '__gt__', '__hash__', '__init__', '__init_subclass__', '__int__', '__le__', '__lt__', '__mod__', '__mul__', '__ne__', '__neg__', '__new__', '__pos__', '__pow__', '__radd__', '__rdivmod__', '__reduce__', '__reduce_ex__', '__repr__', '__rfloordiv__', '__rmod__', '__rmul__', '__rpow__', '__rsub__', '__rtruediv__', '__setattr__', '__sizeof__', '__str__', '__sub__', '__subclasshook__', '__truediv__', 'conjugate', 'imag', 'real']\n",
      "\n",
      "Directory of integer class ::\n",
      " ['__abs__', '__add__', '__and__', '__bool__', '__ceil__', '__class__', '__delattr__', '__dir__', '__divmod__', '__doc__', '__eq__', '__float__', '__floor__', '__floordiv__', '__format__', '__ge__', '__getattribute__', '__getnewargs__', '__gt__', '__hash__', '__index__', '__init__', '__init_subclass__', '__int__', '__invert__', '__le__', '__lshift__', '__lt__', '__mod__', '__mul__', '__ne__', '__neg__', '__new__', '__or__', '__pos__', '__pow__', '__radd__', '__rand__', '__rdivmod__', '__reduce__', '__reduce_ex__', '__repr__', '__rfloordiv__', '__rlshift__', '__rmod__', '__rmul__', '__ror__', '__round__', '__rpow__', '__rrshift__', '__rshift__', '__rsub__', '__rtruediv__', '__rxor__', '__setattr__', '__sizeof__', '__str__', '__sub__', '__subclasshook__', '__truediv__', '__trunc__', '__xor__', 'as_integer_ratio', 'bit_length', 'conjugate', 'denominator', 'from_bytes', 'imag', 'numerator', 'real', 'to_bytes']\n"
     ]
    }
   ],
   "source": [
    "a = 0b11110101010101010011101  # value of 'a' = 117427 in integer\n",
    "print('a =' ,a,'type of a = ',type(a))\n",
    "a1 = 117418\n",
    "print('a1 = ',a1,'type of a1 = ',type(a1))\n",
    "\n",
    "b = hex(15)\n",
    "print('b = ',b,'type = b',type(b))\n",
    "c = 0xf  # x represent that next value is in hexdecimal form\n",
    "print('c = ',c)\n",
    "m = 0x0ffee\n",
    "print('0xc0ffee in integer = ',(m))\n",
    "print(\"\\nDirectory of complex class ::\\n\",dir(2j+5j))  # only 'j' is used as coeffient of imaginary value\n",
    "print(\"\\nDirectory of integer class ::\\n\",dir(1))"
   ]
  },
  {
   "cell_type": "code",
   "execution_count": 6,
   "metadata": {},
   "outputs": [
    {
     "name": "stdout",
     "output_type": "stream",
     "text": [
      "type of x  <class 'int'>\n",
      "type of y  <class 'float'>\n",
      "type of z  <class 'complex'>\n"
     ]
    }
   ],
   "source": [
    "x = 45\n",
    "y = 56.78\n",
    "z = 1235 + 34.34j\n",
    "print(\"type of x \",type(x))\n",
    "print(\"type of y \",type(y))\n",
    "print(\"type of z \",type(z))"
   ]
  },
  {
   "cell_type": "code",
   "execution_count": 7,
   "metadata": {},
   "outputs": [
    {
     "name": "stdout",
     "output_type": "stream",
     "text": [
      "X =  45\n",
      "Y =  56.78\n",
      "Z =  (1235+34.34j)\n",
      "12.0\n"
     ]
    }
   ],
   "source": [
    "print(\"X = \",x)\n",
    "print(\"Y = \",y)\n",
    "print(\"Z = \",z)\n",
    "x = 5\n",
    "y = 6.34\n",
    "z1 = 12 + 45j\n",
    "print((z1.real))\n",
    "z = x + z1"
   ]
  },
  {
   "cell_type": "code",
   "execution_count": null,
   "metadata": {},
   "outputs": [],
   "source": [
    "2. Strings"
   ]
  },
  {
   "cell_type": "code",
   "execution_count": null,
   "metadata": {},
   "outputs": [],
   "source": [
    "1. 'single quoted string'\n",
    "2. \"double quotes string\"\n",
    "3. \"\"\"you can initialize a paragraph in python\n",
    "this line 2nd\n",
    "this line 3rd\n",
    "   para spaces\"\"\""
   ]
  },
  {
   "cell_type": "code",
   "execution_count": 12,
   "metadata": {},
   "outputs": [],
   "source": [
    "x = \"he is so good in cricket.\"\n",
    "y = 'yeah, you are'    'right.'\n",
    "z = \"\"\"python is an awesome language.\n",
    "it is developed by Guido van Rossum in 1989.\n",
    "hello world tonth environment\n",
    "   IbM and google are those companies which adopted python \n",
    "   in it's earlier phase.\n",
    "   \"\"\""
   ]
  },
  {
   "cell_type": "code",
   "execution_count": 13,
   "metadata": {},
   "outputs": [
    {
     "name": "stdout",
     "output_type": "stream",
     "text": [
      "x =  he is so good in cricket.\n",
      "y =  yeah, you areright.\n",
      "z =  python is an awesome language.\n",
      "it is developed by Guido van Rossum in 1989.\n",
      "hello world tonth environment\n",
      "   IbM and google are those companies which adopted python \n",
      "   in it's earlier phase.\n",
      "   \n",
      "he's not so good.\n",
      "he's not so good. he's not so good.\n"
     ]
    }
   ],
   "source": [
    "print('x = ',x)\n",
    "print('y = ',y)\n",
    "print('z = ',z)\n",
    "s = \"he's not so good.\"\n",
    "y = \"he\\'s not so good.\" +\" \"+s\n",
    "print(s)\n",
    "print(y)"
   ]
  },
  {
   "cell_type": "code",
   "execution_count": 14,
   "metadata": {},
   "outputs": [
    {
     "name": "stdout",
     "output_type": "stream",
     "text": [
      "\n",
      "\n",
      "Directory of string class ::\n",
      " ['__add__', '__class__', '__contains__', '__delattr__', '__dir__', '__doc__', '__eq__', '__format__', '__ge__', '__getattribute__', '__getitem__', '__getnewargs__', '__gt__', '__hash__', '__init__', '__init_subclass__', '__iter__', '__le__', '__len__', '__lt__', '__mod__', '__mul__', '__ne__', '__new__', '__reduce__', '__reduce_ex__', '__repr__', '__rmod__', '__rmul__', '__setattr__', '__sizeof__', '__str__', '__subclasshook__', 'capitalize', 'casefold', 'center', 'count', 'encode', 'endswith', 'expandtabs', 'find', 'format', 'format_map', 'index', 'isalnum', 'isalpha', 'isascii', 'isdecimal', 'isdigit', 'isidentifier', 'islower', 'isnumeric', 'isprintable', 'isspace', 'istitle', 'isupper', 'join', 'ljust', 'lower', 'lstrip', 'maketrans', 'partition', 'replace', 'rfind', 'rindex', 'rjust', 'rpartition', 'rsplit', 'rstrip', 'split', 'splitlines', 'startswith', 'strip', 'swapcase', 'title', 'translate', 'upper', 'zfill']\n"
     ]
    }
   ],
   "source": [
    "print(\"\\n\\nDirectory of string class ::\\n\",dir('asd'))"
   ]
  },
  {
   "cell_type": "code",
   "execution_count": 18,
   "metadata": {},
   "outputs": [
    {
     "name": "stdout",
     "output_type": "stream",
     "text": [
      "    ABADV vgvdfdgdgfddf fdgdfgtoijo\n",
      "       .        \n",
      "ABADV vgvdfdgdgfddf fdgdfgtoijo\n",
      "       .\n"
     ]
    }
   ],
   "source": [
    "s = \"    ABADV vgvdfdgdgfddf fdgdfgtoijo\\n       .        \"\n",
    "g = 'gaurav jangid'\n",
    "g1 = 'gfsdgsdf fsfgsdf'\n",
    "\n",
    "k = s.strip()  #it removes the whitepaces\n",
    "print(s)\n",
    "print(k)"
   ]
  },
  {
   "cell_type": "code",
   "execution_count": 19,
   "metadata": {},
   "outputs": [
    {
     "name": "stdout",
     "output_type": "stream",
     "text": [
      "hellohi\n",
      "str(object='') -> str\n",
      "str(bytes_or_buffer[, encoding[, errors]]) -> str\n",
      "\n",
      "Create a new string object from the given object. If encoding or\n",
      "errors is specified, then the object must expose a data buffer\n",
      "that will be decoded using the given encoding and error handler.\n",
      "Otherwise, returns the result of object.__str__() (if defined)\n",
      "or repr(object).\n",
      "encoding defaults to sys.getdefaultencoding().\n",
      "errors defaults to 'strict'.\n",
      "***\n",
      "Return a capitalized version of the string.\n",
      "\n",
      "More specifically, make the first character have upper case and the rest lower\n",
      "case.\n",
      "***0000000000******\n",
      "['__add__', '__class__', '__contains__', '__delattr__', '__dir__', '__doc__', '__eq__', '__format__', '__ge__', '__getattribute__', '__getitem__', '__getnewargs__', '__gt__', '__hash__', '__init__', '__init_subclass__', '__iter__', '__le__', '__len__', '__lt__', '__mod__', '__mul__', '__ne__', '__new__', '__reduce__', '__reduce_ex__', '__repr__', '__rmod__', '__rmul__', '__setattr__', '__sizeof__', '__str__', '__subclasshook__', 'capitalize', 'casefold', 'center', 'count', 'encode', 'endswith', 'expandtabs', 'find', 'format', 'format_map', 'index', 'isalnum', 'isalpha', 'isascii', 'isdecimal', 'isdigit', 'isidentifier', 'islower', 'isnumeric', 'isprintable', 'isspace', 'istitle', 'isupper', 'join', 'ljust', 'lower', 'lstrip', 'maketrans', 'partition', 'replace', 'rfind', 'rindex', 'rjust', 'rpartition', 'rsplit', 'rstrip', 'split', 'splitlines', 'startswith', 'strip', 'swapcase', 'title', 'translate', 'upper', 'zfill']\n"
     ]
    }
   ],
   "source": [
    "one = 'hello'\n",
    "two = 'hi'\n",
    "print(one + two)\n",
    "print(s.capitalize().__doc__) #return the document of capitalize()\n",
    "print('***')\n",
    "print(s.capitalize.__doc__)\n",
    "print('***0000000000******')\n",
    "print(dir(str))"
   ]
  },
  {
   "cell_type": "code",
   "execution_count": 22,
   "metadata": {},
   "outputs": [
    {
     "name": "stdout",
     "output_type": "stream",
     "text": [
      "      HeLlO WoRlD      \n",
      "HeLlO WoRlD\n",
      "      HELLO WORLD      \n",
      "      hello world      \n",
      "      hElLo wOrLd      \n",
      "Hello world\n"
     ]
    }
   ],
   "source": [
    "s = \"      HeLlO WoRlD      \"\n",
    "k = s.strip()  # will remove all laeding and trailing ehite spaces.\n",
    "l = s.upper() # it will change all char into uppercase \n",
    "p = s.lower()\n",
    "n = s.swapcase()\n",
    "q = s.strip().capitalize() # first letter will be capital and rest are small\n",
    "print(s)\n",
    "print(k)\n",
    "print(l)\n",
    "print(p)\n",
    "print(n)\n",
    "print(q)"
   ]
  },
  {
   "cell_type": "code",
   "execution_count": null,
   "metadata": {},
   "outputs": [],
   "source": []
  },
  {
   "cell_type": "code",
   "execution_count": 24,
   "metadata": {},
   "outputs": [],
   "source": [
    "STRING PENCULARITY"
   ]
  },
  {
   "cell_type": "raw",
   "metadata": {},
   "source": [
    "id() return the address of stored variable"
   ]
  },
  {
   "cell_type": "code",
   "execution_count": 27,
   "metadata": {},
   "outputs": [
    {
     "name": "stdout",
     "output_type": "stream",
     "text": [
      "2265488430144\n",
      "2265488429504\n",
      "False\n",
      "True\n",
      "2265480288560\n",
      "2265480288560\n",
      "True\n",
      "True\n"
     ]
    }
   ],
   "source": [
    "a = 'asdfdgsdfrrgd!df' # because of special character '!'\n",
    "b = 'asdfdgsdfrrgd!df' # it means both variable store at different addresses\n",
    "print(id(a))\n",
    "print(id(b))\n",
    "print(id(a) == id(b))\n",
    "print((b) == (a))\n",
    "a  = 'sdfdsf'\n",
    "b = 'sdfdsf'\n",
    "print(id(a))\n",
    "print(id(b))\n",
    "print(id(b) == id(a))\n",
    "print((b) ==(a))"
   ]
  },
  {
   "cell_type": "code",
   "execution_count": 31,
   "metadata": {
    "scrolled": true
   },
   "outputs": [
    {
     "name": "stdout",
     "output_type": "stream",
     "text": [
      "x before =  42\n",
      "y before =  42\n",
      "x after =  84\n",
      "y after =  0\n",
      "140721687511424\n",
      "140721687508736\n"
     ]
    }
   ],
   "source": [
    "x = 42\n",
    "y = x\n",
    "print('x before = ',x)\n",
    "print('y before = ',y)\n",
    "x += 42\n",
    "y = 0\n",
    "print('x after = ',x)\n",
    "print('y after = ',y)\n",
    "print(id(x))\n",
    "x = y\n",
    "print(id(y))"
   ]
  },
  {
   "cell_type": "code",
   "execution_count": 32,
   "metadata": {
    "scrolled": true
   },
   "outputs": [
    {
     "name": "stdout",
     "output_type": "stream",
     "text": [
      "100.0  50.0  33.333333333333336  25.0  20.0  16.666666666666668  14.285714285714286  12.5  11.11111111111111  "
     ]
    }
   ],
   "source": [
    "for i in range(1,10):\n",
    "    y = 100/i\n",
    "    print(y , end ='  ')"
   ]
  },
  {
   "cell_type": "code",
   "execution_count": 1,
   "metadata": {},
   "outputs": [],
   "source": [
    "l = [\n",
    "    [3,4,435,56,53,4,2],\n",
    "    [23,4,5,[57,68,656],45,],\n",
    "    [2,3,5,56,67,545,3,4,],\n",
    "]"
   ]
  },
  {
   "cell_type": "code",
   "execution_count": 2,
   "metadata": {},
   "outputs": [
    {
     "name": "stdout",
     "output_type": "stream",
     "text": [
      "656\n"
     ]
    }
   ],
   "source": [
    "print(l[1][3][-1])"
   ]
  },
  {
   "cell_type": "code",
   "execution_count": null,
   "metadata": {},
   "outputs": [],
   "source": []
  },
  {
   "cell_type": "code",
   "execution_count": 3,
   "metadata": {},
   "outputs": [
    {
     "name": "stdout",
     "output_type": "stream",
     "text": [
      "45 457 5 4 34 3 65 7 4324 67 4 342 345 567\n"
     ]
    }
   ],
   "source": [
    "l = [ 45,457,5,4,34,3,65,7,4324,67,4,342,345,567,]\n",
    "print(*l)"
   ]
  },
  {
   "cell_type": "code",
   "execution_count": 4,
   "metadata": {},
   "outputs": [
    {
     "name": "stdout",
     "output_type": "stream",
     "text": [
      "[45, 457, 5, 4, 34, 3, 65, 7, 4324, 67, 4, 342, 345, 567]\n"
     ]
    }
   ],
   "source": [
    "print(l)"
   ]
  },
  {
   "cell_type": "code",
   "execution_count": 5,
   "metadata": {},
   "outputs": [
    {
     "name": "stdout",
     "output_type": "stream",
     "text": [
      "Python\n",
      "P y t h o n\n",
      "[1, 2, 3, 'python', [4, 5, 6], 43, 34, 343]\n",
      "1 2 3 python 4 5 6 43 34 343\n"
     ]
    }
   ],
   "source": [
    "print(\"Python\")\n",
    "print(*\"Python\")\n",
    "l = [1,2,3,'python',[4,5,6],43,34,343]\n",
    "l1 = l[:4]\n",
    "l2 = l[4]\n",
    "l3 = l[5:]\n",
    "print(l)\n",
    "print(*(l1 + l2 + l3))"
   ]
  },
  {
   "cell_type": "code",
   "execution_count": 6,
   "metadata": {},
   "outputs": [
    {
     "name": "stdout",
     "output_type": "stream",
     "text": [
      "range(5, 51, 5)\n",
      "5 10 15 20 25 30 35 40 45 50\n",
      "13 26 39 52 65 78 91 104 117 130\n"
     ]
    }
   ],
   "source": [
    "l = range(5,51,5)\n",
    "print(l)\n",
    "print(*l)\n",
    "q  = range(13,131,13)\n",
    "print(*q)"
   ]
  },
  {
   "cell_type": "code",
   "execution_count": 7,
   "metadata": {},
   "outputs": [
    {
     "name": "stdout",
     "output_type": "stream",
     "text": [
      "2 3 4 3 2 # @ $ ^ % $ ^ & $ % ^ $ % # p y t h 9 7 2 3 4 9 8 o n\n",
      "23432#@$^%$^&$%^$%#pyth9723498on\n",
      "['2', '3', '4', '3', '2', '#', '@', '$', '^', '%', '$', '^', '&', '$', '%', '^', '$', '%', '#', 'p', 'y', 't', 'h', '9', '7', '2', '3', '4', '9', '8', 'o', 'n']\n",
      "['23432#@$^%$^&$%^$%#pyth9723498on']\n"
     ]
    }
   ],
   "source": [
    "l = list('23432#@$^%$^&$%^$%#pyth9723498on')  # treated as iterators\n",
    "l3 = ['23432#@$^%$^&$%^$%#pyth9723498on']   # treated as single string\n",
    "print(*l)\n",
    "print(*l3)\n",
    "print(l)\n",
    "print(l3)"
   ]
  },
  {
   "cell_type": "code",
   "execution_count": 9,
   "metadata": {},
   "outputs": [
    {
     "name": "stdout",
     "output_type": "stream",
     "text": [
      "<class 'list'>\n",
      "[1, 4, 7, 10, 13, 16, 19, 22, 25, 28, 31, 34, 37, 40, 43, 46, 49]\n",
      "enter the number you want to print table:  66\n",
      "66 132 198 264 330 396 462 528 594 660\n"
     ]
    }
   ],
   "source": [
    "l = list(range(1,50,3))\n",
    "print(type(l))\n",
    "print(l)\n",
    "#q = range(1,50,3)\n",
    "\n",
    "enter = int(input('enter the number you want to print table:  '))\n",
    "print(*list(range(enter,(enter*10+1),enter)))"
   ]
  },
  {
   "cell_type": "code",
   "execution_count": 11,
   "metadata": {
    "scrolled": true
   },
   "outputs": [
    {
     "name": "stdout",
     "output_type": "stream",
     "text": [
      "[1, 4, 7, 10, 13]\n",
      "[16, 19, 22, 25, 28, 31, 34, 37, 40, 43, 46, 49]\n",
      "[1, 4, 7, 10, 13, 16, 19, 22, 25, 28, 31, 34, 37, 40, 43, 46, 49]\n"
     ]
    }
   ],
   "source": [
    "s = l[:5]\n",
    "print(s)\n",
    "s = l[5:]\n",
    "print(s)\n",
    "print(l)"
   ]
  },
  {
   "cell_type": "code",
   "execution_count": 15,
   "metadata": {},
   "outputs": [
    {
     "name": "stdout",
     "output_type": "stream",
     "text": [
      "[['__', 'q', 'c'], ['__', 'q', 'c']]\n",
      "['__', 'q', 'c']\n",
      "['a', 'b', 'c', 'a', 'b', 'c']\n"
     ]
    }
   ],
   "source": [
    "x = ['a','b','c']\n",
    "y = [x] * 2\n",
    "z = x * 2\n",
    "y[1][1] = 'q'\n",
    "y[0][0] = '__'\n",
    "print(y)\n",
    "print(x)\n",
    "print(z)"
   ]
  },
  {
   "cell_type": "code",
   "execution_count": 19,
   "metadata": {},
   "outputs": [
    {
     "name": "stdout",
     "output_type": "stream",
     "text": [
      "[1, 4, 7, 10, 13, 16, 19, 22, 25, 28, 31, 34, 37, 40, 43, 46, 49]\n",
      "['__add__', '__class__', '__contains__', '__delattr__', '__delitem__', '__dir__', '__doc__', '__eq__', '__format__', '__ge__', '__getattribute__', '__getitem__', '__gt__', '__hash__', '__iadd__', '__imul__', '__init__', '__init_subclass__', '__iter__', '__le__', '__len__', '__lt__', '__mul__', '__ne__', '__new__', '__reduce__', '__reduce_ex__', '__repr__', '__reversed__', '__rmul__', '__setattr__', '__setitem__', '__sizeof__', '__str__', '__subclasshook__', 'append', 'clear', 'copy', 'count', 'extend', 'index', 'insert', 'pop', 'remove', 'reverse', 'sort']\n"
     ]
    }
   ],
   "source": [
    "print(l)\n",
    "l.sort()\n",
    "print(dir(l))"
   ]
  },
  {
   "cell_type": "code",
   "execution_count": 22,
   "metadata": {},
   "outputs": [
    {
     "name": "stdout",
     "output_type": "stream",
     "text": [
      "[1, 4, 7, 10, 13, 16, 19, 22, 25, 28, 31, 34, 37, 40, 43, 46, 49]\n",
      "['__add__', '__class__', '__contains__', '__delattr__', '__delitem__', '__dir__', '__doc__', '__eq__', '__format__', '__ge__', '__getattribute__', '__getitem__', '__gt__', '__hash__', '__iadd__', '__imul__', '__init__', '__init_subclass__', '__iter__', '__le__', '__len__', '__lt__', '__mul__', '__ne__', '__new__', '__reduce__', '__reduce_ex__', '__repr__', '__reversed__', '__rmul__', '__setattr__', '__setitem__', '__sizeof__', '__str__', '__subclasshook__', 'append', 'clear', 'copy', 'count', 'extend', 'index', 'insert', 'pop', 'remove', 'reverse', 'sort']\n"
     ]
    }
   ],
   "source": [
    "print(l)\n",
    "l.sort()\n",
    "print(dir(l))"
   ]
  },
  {
   "cell_type": "code",
   "execution_count": 24,
   "metadata": {},
   "outputs": [
    {
     "name": "stdout",
     "output_type": "stream",
     "text": [
      "[1, 4, 7, 10, 13, 16, 19, 22, 25, 28, 31, 34, 37, 40, 43, 46, 49, 'asasddasd', 'asasddasd', 'asasddasd']\n"
     ]
    }
   ],
   "source": [
    "l = [1, 4, 7, 10, 13, 16, 19, 22, 25, 28, 31, 34, 37, 40, 43, 46, 49, 'asasddasd', 'asasddasd', 'asasddasd']\n",
    "print(l)"
   ]
  },
  {
   "cell_type": "code",
   "execution_count": 25,
   "metadata": {},
   "outputs": [
    {
     "name": "stdout",
     "output_type": "stream",
     "text": [
      "['asasddasd', 'asasddasd', 'asasddasd', 49, 46, 43, 40, 37, 34, 31, 28, 25, 22, 19, 16, 13, 10, 7, 4, 1]\n",
      "['asasddasd', 'asasddasd', 'asasddasd', 49, 46, 43, 40, 37, 34]\n"
     ]
    }
   ],
   "source": [
    "s = l[::-1]\n",
    "print(s)\n",
    "print(l[-1:-10:-1])"
   ]
  },
  {
   "cell_type": "code",
   "execution_count": 26,
   "metadata": {},
   "outputs": [],
   "source": [
    "l = list(range(1,128))"
   ]
  },
  {
   "cell_type": "code",
   "execution_count": 27,
   "metadata": {},
   "outputs": [
    {
     "name": "stdout",
     "output_type": "stream",
     "text": [
      "[1, 2, 3, 4, 5, 6, 7, 8, 9, 10, 11, 12, 13, 14, 15, 16, 17, 18, 19, 20, 21, 22, 23, 24, 25, 26, 27, 28, 29, 30, 31, 32, 33, 34, 35, 36, 37, 38, 39, 40, 41, 42, 43, 44, 45, 46, 47, 48, 49, 50, 51, 52, 53, 54, 55, 56, 57, 58, 59, 60, 61, 62, 63, 64, 65, 66, 67, 68, 69, 70, 71, 72, 73, 74, 75, 76, 77, 78, 79, 80, 81, 82, 83, 84, 85, 86, 87, 88, 89, 90, 91, 92, 93, 94, 95, 96, 97, 98, 99, 100, 101, 102, 103, 104, 105, 106, 107, 108, 109, 110, 111, 112, 113, 114, 115, 116, 117, 118, 119, 120, 121, 122, 123, 124, 125, 126, 127]\n"
     ]
    }
   ],
   "source": [
    "print(l)"
   ]
  },
  {
   "cell_type": "code",
   "execution_count": 28,
   "metadata": {},
   "outputs": [
    {
     "name": "stdout",
     "output_type": "stream",
     "text": [
      "[127, 126, 125, 124, 123, 122, 121, 120, 119, 118, 117, 116, 115, 114, 113]\n"
     ]
    }
   ],
   "source": [
    "print(l[-1:-16:-1])"
   ]
  },
  {
   "cell_type": "code",
   "execution_count": 29,
   "metadata": {},
   "outputs": [
    {
     "name": "stdout",
     "output_type": "stream",
     "text": [
      "[]\n"
     ]
    }
   ],
   "source": [
    "print(l[1:16:-1])"
   ]
  },
  {
   "cell_type": "code",
   "execution_count": 3,
   "metadata": {},
   "outputs": [
    {
     "name": "stdout",
     "output_type": "stream",
     "text": [
      "[12, 34, 135, 35]\n",
      "how\n",
      "['hello', 'hi']\n",
      "[12, 34, 135, 35, 'hello', 'hi', 'how']\n"
     ]
    }
   ],
   "source": [
    "l = [12,34,45,35]\n",
    "l[2] = l[2] * 3\n",
    "k = ['hello','hi','how']\n",
    "s = l + k\n",
    "print(l)\n",
    "x = k.pop()\n",
    "print(x)\n",
    "print(k)\n",
    "print(s)"
   ]
  },
  {
   "cell_type": "code",
   "execution_count": 32,
   "metadata": {},
   "outputs": [
    {
     "name": "stdout",
     "output_type": "stream",
     "text": [
      "😜\n"
     ]
    }
   ],
   "source": [
    "print(\"😜\")"
   ]
  },
  {
   "cell_type": "code",
   "execution_count": 5,
   "metadata": {},
   "outputs": [
    {
     "name": "stdout",
     "output_type": "stream",
     "text": [
      "[['__', 34, 135, 35], ['__', 34, 135, 35], ['__', 34, 135, 35]]\n",
      "[['__', 34, 135, 35], ['__', 34, 135, 35], ['__', 34, 135, 35]]\n",
      "****************************************\n",
      "['__', 34, 135, 35, '__', 34, 135, 35, '__', 34, 135, 35]\n",
      "['__', '__', 135, 35, '__', 34, 135, 35, '__', 34, 135, 35]\n"
     ]
    }
   ],
   "source": [
    "n = 3*[l] # it create matrix so if we multiple or reassign with a new value the assignment will be broadcast \n",
    "print(n)\n",
    "n[0][0] = '__'\n",
    "print(n)\n",
    "print('****************************************')\n",
    "n = 3*l\n",
    "print(n)\n",
    "n[1] = '__'\n",
    "print(n)\n"
   ]
  },
  {
   "cell_type": "code",
   "execution_count": 8,
   "metadata": {
    "scrolled": true
   },
   "outputs": [
    {
     "name": "stdout",
     "output_type": "stream",
     "text": [
      "['hello', 5]\n",
      "<class 'int'>\n",
      "['__add__', '__class__', '__contains__', '__delattr__', '__delitem__', '__dir__', '__doc__', '__eq__', '__format__', '__ge__', '__getattribute__', '__getitem__', '__gt__', '__hash__', '__iadd__', '__imul__', '__init__', '__init_subclass__', '__iter__', '__le__', '__len__', '__lt__', '__mul__', '__ne__', '__new__', '__reduce__', '__reduce_ex__', '__repr__', '__reversed__', '__rmul__', '__setattr__', '__setitem__', '__sizeof__', '__str__', '__subclasshook__', 'append', 'clear', 'copy', 'count', 'extend', 'index', 'insert', 'pop', 'remove', 'reverse', 'sort']\n"
     ]
    }
   ],
   "source": [
    "l = [    'hello',5]\n",
    "print   (l)\n",
    "print(type(l[1]))\n",
    "print(dir(l))"
   ]
  },
  {
   "cell_type": "code",
   "execution_count": 11,
   "metadata": {},
   "outputs": [
    {
     "name": "stdout",
     "output_type": "stream",
     "text": [
      "range(1, 100) a   [range(1, 100), 'a']\n"
     ]
    }
   ],
   "source": [
    "l = [range(1,100),'a']\n",
    "print(*l,end = '   ')\n",
    "print(l)"
   ]
  },
  {
   "cell_type": "code",
   "execution_count": 12,
   "metadata": {},
   "outputs": [
    {
     "name": "stdout",
     "output_type": "stream",
     "text": [
      "[332, 66, 62, 45]\n",
      "[332, 45, 62, 66]\n",
      "[332, 66, 62, 45]\n"
     ]
    }
   ],
   "source": [
    "l = [332,45,62,66]\n",
    "k = l.copy()\n",
    "j = l\n",
    "l.sort(reverse = True)\n",
    "print(l)\n",
    "print(k)\n",
    "print(j)"
   ]
  },
  {
   "cell_type": "code",
   "execution_count": 13,
   "metadata": {
    "scrolled": true
   },
   "outputs": [
    {
     "name": "stdout",
     "output_type": "stream",
     "text": [
      "[332, 66, 62, 45, 'hello']\n",
      "[332, 45, 62, 66]\n",
      "[332, 66, 62, 45, 'hello']\n"
     ]
    }
   ],
   "source": [
    "l.append('hello')\n",
    "print(l)\n",
    "print(k)\n",
    "print(j)"
   ]
  },
  {
   "cell_type": "code",
   "execution_count": 14,
   "metadata": {},
   "outputs": [
    {
     "name": "stdout",
     "output_type": "stream",
     "text": [
      "[332, 66, 'bye', 62, 45, 'hello']\n",
      "[332, 66, 'bye', 62, 45, 'hello']\n",
      "[332, 45, 62, 66]\n"
     ]
    }
   ],
   "source": [
    "l.insert(2,'bye')\n",
    "print(l)\n",
    "print(j)\n",
    "print(k)"
   ]
  },
  {
   "cell_type": "code",
   "execution_count": 15,
   "metadata": {},
   "outputs": [
    {
     "name": "stdout",
     "output_type": "stream",
     "text": [
      "[1, 2, 3]\n",
      "[332, 66, 'bye', 62, 45, 'hello']\n",
      "[332, 45, 62, 66]\n"
     ]
    }
   ],
   "source": [
    "l = [1,2,3]\n",
    "print(l)\n",
    "print(j)\n",
    "print(k)"
   ]
  },
  {
   "cell_type": "code",
   "execution_count": 16,
   "metadata": {},
   "outputs": [
    {
     "name": "stdout",
     "output_type": "stream",
     "text": [
      "[1, 2, 3]\n"
     ]
    }
   ],
   "source": [
    "j =l\n",
    "print(j)"
   ]
  },
  {
   "cell_type": "code",
   "execution_count": 17,
   "metadata": {
    "scrolled": true
   },
   "outputs": [
    {
     "name": "stdout",
     "output_type": "stream",
     "text": [
      "[1, 2, 3, 'hello', 'p', 'y', 't', 'h', 'o', 'n', range(0, 20), 0, 1, 2, 3, 4, 5, 6, 7, 8, 9, 10, 11, 12, 13, 14, 15, 16, 17, 18, 19]\n"
     ]
    }
   ],
   "source": [
    "l.append('hello')\n",
    "l.extend('python')\n",
    "l.append((range(0,20)))\n",
    "l.extend((range(0,20)))\n",
    "print(l)"
   ]
  },
  {
   "cell_type": "code",
   "execution_count": 18,
   "metadata": {},
   "outputs": [
    {
     "name": "stdout",
     "output_type": "stream",
     "text": [
      "['hi', 'hello', 1, 3, 4, [4, 5, 6, 7], 8, 9, 2]\n",
      "['hi', 'hello', 1, 3, 4, [7, 6, 5, 4], 8, 9, 2]\n"
     ]
    }
   ],
   "source": [
    "l = ['hi','hello',1,3,4]\n",
    "l.append([4,5,6,7])\n",
    "l.extend([8,9,2])\n",
    "print(l)\n",
    "(l[5].sort(reverse = True))\n",
    "print(l)\n",
    "if 0:\n",
    "    print('asdf')\n",
    "if None:\n",
    "    print('asdf')\n",
    "if False:\n",
    "    print('asdf')"
   ]
  },
  {
   "cell_type": "code",
   "execution_count": 19,
   "metadata": {},
   "outputs": [
    {
     "name": "stdout",
     "output_type": "stream",
     "text": [
      "how\n",
      "['hello', 'hi']\n"
     ]
    }
   ],
   "source": [
    "k = ['hello','hi','how']\n",
    "x = k.pop()\n",
    "print(x)\n",
    "print(k)"
   ]
  },
  {
   "cell_type": "code",
   "execution_count": 21,
   "metadata": {},
   "outputs": [
    {
     "name": "stdout",
     "output_type": "stream",
     "text": [
      "Deleting  29\n",
      "[0, 1, 2, 3, 4, 5, 6, 7, 8, 9, 10, 11, 12, 13, 14, 15, 16, 17, 18, 19, 20, 21, 22, 23, 24, 25, 26, 27, 28]\n"
     ]
    }
   ],
   "source": [
    "l = list(range(0,30))\n",
    "x = l.pop()\n",
    "#print(l)\n",
    "print(\"Deleting \",x)\n",
    "print(l)"
   ]
  },
  {
   "cell_type": "code",
   "execution_count": 22,
   "metadata": {},
   "outputs": [
    {
     "name": "stdout",
     "output_type": "stream",
     "text": [
      "0 and 1 are deleted from list. \n",
      "[2, 3, 4, 5, 6, 7, 8, 9, 10, 11, 12, 13, 14, 15, 16, 17, 18, 19, 20, 21, 22, 23, 24, 25, 26, 27, 28]\n"
     ]
    }
   ],
   "source": [
    "y = l.pop(1)\n",
    "x = l.pop(0)\n",
    "print(\"{} and {} are deleted from list. \".format(x,y))\n",
    "print(l)"
   ]
  },
  {
   "cell_type": "code",
   "execution_count": 23,
   "metadata": {},
   "outputs": [
    {
     "name": "stdout",
     "output_type": "stream",
     "text": [
      "[2, 3, 4, 5, 6, 7, 8, 9, 10, 11, 12, 13, 15, 16, 17, 18, 19, 20, 21, 22, 23, 24, 25, 26, 27, 28]\n"
     ]
    }
   ],
   "source": [
    "l.remove(14)\n",
    "print(l)"
   ]
  },
  {
   "cell_type": "code",
   "execution_count": 26,
   "metadata": {},
   "outputs": [],
   "source": [
    "l1 = [ 1,23,5,34,3,2,3235,46,5,53,4,]\n",
    "l2 = [ 'hello','jcb','java','c','Zesus','c++','perl','ruby']"
   ]
  },
  {
   "cell_type": "code",
   "execution_count": 29,
   "metadata": {},
   "outputs": [
    {
     "name": "stdout",
     "output_type": "stream",
     "text": [
      "None\n",
      "None\n"
     ]
    }
   ],
   "source": [
    "print(l1.sort())\n",
    "print(l2.sort())"
   ]
  },
  {
   "cell_type": "code",
   "execution_count": 41,
   "metadata": {},
   "outputs": [],
   "source": [
    "l = [ 1,2,43,1,24,35,1,2,424,21,2,1,1,1,1,1,2,34,35,32,532,32,34,32,2]"
   ]
  },
  {
   "cell_type": "code",
   "execution_count": 50,
   "metadata": {},
   "outputs": [
    {
     "name": "stdout",
     "output_type": "stream",
     "text": [
      "range(10, 100, 5)\n",
      "10 15 20 25 30 35 40 45 50 55 60 65 70 75 80 85 90 95\n",
      "range(10, 100, 5)\n"
     ]
    }
   ],
   "source": [
    "print(l)\n",
    "l = (range(10,100,5))\n",
    "print(*l)\n",
    "print(l)"
   ]
  },
  {
   "cell_type": "code",
   "execution_count": 35,
   "metadata": {},
   "outputs": [
    {
     "name": "stdout",
     "output_type": "stream",
     "text": [
      "0\n",
      "0\n",
      "0\n"
     ]
    }
   ],
   "source": [
    "one = l.count(1)\n",
    "th = l.count(3)\n",
    "t = l.count(2)\n",
    "print(one)\n",
    "print(th)\n",
    "print(t)"
   ]
  },
  {
   "cell_type": "code",
   "execution_count": 48,
   "metadata": {},
   "outputs": [
    {
     "name": "stdout",
     "output_type": "stream",
     "text": [
      "[2, 2, 2, 2, 2, 21, 24, 32, 32, 32, 34, 34, 35, 35, 35, 35, 35, 35, 35, 35, 35, 43, 424, 532]\n"
     ]
    }
   ],
   "source": [
    "l.append(35)\n",
    "l.sort()\n",
    "l = l[l.count(1):]\n",
    "print(l)"
   ]
  },
  {
   "cell_type": "code",
   "execution_count": 51,
   "metadata": {},
   "outputs": [
    {
     "name": "stdout",
     "output_type": "stream",
     "text": [
      "range(10, 100, 5)\n"
     ]
    }
   ],
   "source": [
    "print(l)"
   ]
  },
  {
   "cell_type": "code",
   "execution_count": 52,
   "metadata": {},
   "outputs": [
    {
     "name": "stdout",
     "output_type": "stream",
     "text": [
      "[10, 15, 20, 25, 30, 35, 40, 45, 50, 55, 60, 65, 70, 75, 80, 85, 90, 95]\n"
     ]
    }
   ],
   "source": [
    "print(list(l))"
   ]
  },
  {
   "cell_type": "code",
   "execution_count": 54,
   "metadata": {},
   "outputs": [
    {
     "name": "stdout",
     "output_type": "stream",
     "text": [
      "range(10, 100, 5)\n",
      "1\n",
      "5\n",
      "range(10, 35, 5)\n",
      "range(40, 100, 5)\n"
     ]
    }
   ],
   "source": [
    "c = l.count(35)#2\n",
    "i = l.index(35) #12\n",
    "k = l[:i] #l[0:12]\n",
    "j = l[i+c:] #l[14:]\n",
    "#l = k+j\n",
    "print(l)\n",
    "print(c)\n",
    "print(i)\n",
    "print(k)\n",
    "print(j)"
   ]
  },
  {
   "cell_type": "code",
   "execution_count": 55,
   "metadata": {},
   "outputs": [
    {
     "name": "stdout",
     "output_type": "stream",
     "text": [
      "[1, 1, 1, 1, 5, 3, 8, 0, 5, 1, 6, 9, 4, 3]\n"
     ]
    }
   ],
   "source": [
    "i=[1,1,1,1,5,3,8,0,5,1,6,9,4,3]\n",
    "print(i)"
   ]
  },
  {
   "cell_type": "code",
   "execution_count": 56,
   "metadata": {},
   "outputs": [
    {
     "data": {
      "text/plain": [
       "[1, 1, 1, 1, 5, 3, 8, 0, 5, 1, 6, 9, 4, 3]"
      ]
     },
     "execution_count": 56,
     "metadata": {},
     "output_type": "execute_result"
    }
   ],
   "source": [
    "i"
   ]
  },
  {
   "cell_type": "code",
   "execution_count": 57,
   "metadata": {},
   "outputs": [
    {
     "name": "stdout",
     "output_type": "stream",
     "text": [
      "['__bool__', '__class__', '__contains__', '__delattr__', '__dir__', '__doc__', '__eq__', '__format__', '__ge__', '__getattribute__', '__getitem__', '__gt__', '__hash__', '__init__', '__init_subclass__', '__iter__', '__le__', '__len__', '__lt__', '__ne__', '__new__', '__reduce__', '__reduce_ex__', '__repr__', '__reversed__', '__setattr__', '__sizeof__', '__str__', '__subclasshook__', 'count', 'index', 'start', 'step', 'stop']\n"
     ]
    }
   ],
   "source": [
    "print(dir(l))"
   ]
  },
  {
   "cell_type": "code",
   "execution_count": 58,
   "metadata": {},
   "outputs": [
    {
     "name": "stdout",
     "output_type": "stream",
     "text": [
      "range(10, 100, 5)\n"
     ]
    }
   ],
   "source": [
    "print(l)"
   ]
  },
  {
   "cell_type": "code",
   "execution_count": 61,
   "metadata": {},
   "outputs": [
    {
     "name": "stdout",
     "output_type": "stream",
     "text": [
      "[9, 2, 3, 4, [2, 3, 4]]\n"
     ]
    }
   ],
   "source": [
    "i = [9]\n",
    "i.extend([2,3,4])\n",
    "i.append([2,3,4])\n",
    "\n",
    "print(i)"
   ]
  },
  {
   "cell_type": "code",
   "execution_count": 62,
   "metadata": {},
   "outputs": [
    {
     "name": "stdout",
     "output_type": "stream",
     "text": [
      "None\n"
     ]
    }
   ],
   "source": [
    "print(i.reverse())"
   ]
  },
  {
   "cell_type": "code",
   "execution_count": 63,
   "metadata": {},
   "outputs": [
    {
     "name": "stdout",
     "output_type": "stream",
     "text": [
      "[9, 2, 3, 4, [2, 3, 4]]\n"
     ]
    }
   ],
   "source": [
    "i.reverse()\n",
    "print(i)"
   ]
  },
  {
   "cell_type": "code",
   "execution_count": 72,
   "metadata": {},
   "outputs": [
    {
     "name": "stdout",
     "output_type": "stream",
     "text": [
      "[7, 4, 2, 1]\n"
     ]
    }
   ],
   "source": [
    "i.reverse()\n",
    "print(i)\n",
    "i\n",
    "i = [4,2,7,1,3,5]"
   ]
  },
  {
   "cell_type": "code",
   "execution_count": 73,
   "metadata": {},
   "outputs": [
    {
     "name": "stdout",
     "output_type": "stream",
     "text": [
      "[1, 2, 3, 4, 5, 7]\n"
     ]
    }
   ],
   "source": [
    "i.sort()\n",
    "print(i)"
   ]
  },
  {
   "cell_type": "code",
   "execution_count": 74,
   "metadata": {},
   "outputs": [
    {
     "name": "stdout",
     "output_type": "stream",
     "text": [
      "[1, 2, 3, 4, 7]\n",
      "[1, 2, 4, 7]\n"
     ]
    }
   ],
   "source": [
    "index=i.index(5)\n",
    "count=i.count(5)\n",
    "lis=i[index+count:]\n",
    "lis2=i[:index]\n",
    "l=lis2+lis\n",
    "print(l)\n",
    "l.remove(3)\n",
    "print(l)"
   ]
  },
  {
   "cell_type": "code",
   "execution_count": 75,
   "metadata": {},
   "outputs": [
    {
     "name": "stdout",
     "output_type": "stream",
     "text": [
      "<class 'int'>\n",
      "<class '__main__.demo'>\n",
      "<class 'int'>\n"
     ]
    }
   ],
   "source": [
    "a = 85\n",
    "print(type(a))\n",
    "class demo:\n",
    "    b = 10\n",
    "demoobj = demo()\n",
    "print(type(demoobj))\n",
    "print(type(demo.b))"
   ]
  },
  {
   "cell_type": "markdown",
   "metadata": {},
   "source": [
    "### 3. Dictionary"
   ]
  },
  {
   "cell_type": "raw",
   "metadata": {},
   "source": [
    "dictionaries are the python implementation of an abstract data type\n",
    "\n",
    "Dictionaries don't support the sequence operation of the data types like strings, tuples and lists. Dictionaries belong to built-in mapping type, but so far they are the sole represintative of this kind!"
   ]
  },
  {
   "cell_type": "code",
   "execution_count": 95,
   "metadata": {},
   "outputs": [],
   "source": [
    "info = { \n",
    "        'name' : 'python',\n",
    "        'year' : 1991,\n",
    "        'Developed_by' : 'Guido Van Rossum',\n",
    "        'versions' : ['1.x','2.x','3.x'],\n",
    "        'current_version' : 3.6,\n",
    "        'frame_work' : { 'web' : [ 'Django','Flask','Web2py',],\n",
    "                        'application' : [ 'kivi','wxpython','tkinter',],\n",
    "                        'automation' : [ 'Salt','Ansible','Openstack'],\n",
    "                        'ml' : [ 'numpy','scipy','pandas','sckit-learn']\n",
    "                            }\n",
    "        \n",
    "        }"
   ]
  },
  {
   "cell_type": "code",
   "execution_count": 78,
   "metadata": {},
   "outputs": [
    {
     "name": "stdout",
     "output_type": "stream",
     "text": [
      "['__class__', '__contains__', '__delattr__', '__delitem__', '__dir__', '__doc__', '__eq__', '__format__', '__ge__', '__getattribute__', '__getitem__', '__gt__', '__hash__', '__init__', '__init_subclass__', '__iter__', '__le__', '__len__', '__lt__', '__ne__', '__new__', '__reduce__', '__reduce_ex__', '__repr__', '__reversed__', '__setattr__', '__setitem__', '__sizeof__', '__str__', '__subclasshook__', 'clear', 'copy', 'fromkeys', 'get', 'items', 'keys', 'pop', 'popitem', 'setdefault', 'update', 'values']\n"
     ]
    }
   ],
   "source": [
    "print(dir(info))"
   ]
  },
  {
   "cell_type": "code",
   "execution_count": 96,
   "metadata": {},
   "outputs": [
    {
     "data": {
      "text/plain": [
       "{'name': 'python',\n",
       " 'year': 1991,\n",
       " 'Developed_by': 'Guido Van Rossum',\n",
       " 'versions': ['1.x', '2.x', '3.x'],\n",
       " 'current_version': 3.6,\n",
       " 'frame_work': {'web': ['Django', 'Flask', 'Web2py'],\n",
       "  'application': ['kivi', 'wxpython', 'tkinter'],\n",
       "  'automation': ['Salt', 'Ansible', 'Openstack'],\n",
       "  'ml': ['numpy', 'scipy', 'pandas', 'sckit-learn']}}"
      ]
     },
     "execution_count": 96,
     "metadata": {},
     "output_type": "execute_result"
    }
   ],
   "source": [
    "info2 = (info.copy())\n",
    "info2"
   ]
  },
  {
   "cell_type": "code",
   "execution_count": 81,
   "metadata": {},
   "outputs": [
    {
     "name": "stdout",
     "output_type": "stream",
     "text": [
      "None\n"
     ]
    },
    {
     "data": {
      "text/plain": [
       "{}"
      ]
     },
     "execution_count": 81,
     "metadata": {},
     "output_type": "execute_result"
    }
   ],
   "source": [
    "print(info.clear())\n",
    "info"
   ]
  },
  {
   "cell_type": "code",
   "execution_count": 97,
   "metadata": {},
   "outputs": [
    {
     "data": {
      "text/plain": [
       "{'name': 'python',\n",
       " 'year': 1991,\n",
       " 'Developed_by': 'Guido Van Rossum',\n",
       " 'versions': ['1.x', '2.x', '3.x'],\n",
       " 'current_version': 3.6,\n",
       " 'frame_work': {'web': ['Django', 'Flask', 'Web2py'],\n",
       "  'application': ['kivi', 'wxpython', 'tkinter'],\n",
       "  'automation': ['Salt', 'Ansible', 'Openstack'],\n",
       "  'ml': ['numpy', 'scipy', 'pandas', 'sckit-learn']}}"
      ]
     },
     "execution_count": 97,
     "metadata": {},
     "output_type": "execute_result"
    }
   ],
   "source": [
    "info2"
   ]
  },
  {
   "cell_type": "code",
   "execution_count": 98,
   "metadata": {},
   "outputs": [
    {
     "data": {
      "text/plain": [
       "'scipy'"
      ]
     },
     "execution_count": 98,
     "metadata": {},
     "output_type": "execute_result"
    }
   ],
   "source": [
    "info2['frame_work']['ml'][1]"
   ]
  },
  {
   "cell_type": "code",
   "execution_count": 99,
   "metadata": {},
   "outputs": [
    {
     "data": {
      "text/plain": [
       "['numpy', 'scipy', 'pandas', 'sckit-learn']"
      ]
     },
     "execution_count": 99,
     "metadata": {},
     "output_type": "execute_result"
    }
   ],
   "source": [
    "info2['frame_work'].pop('ml') # it takes parameter and return poped element"
   ]
  },
  {
   "cell_type": "code",
   "execution_count": 100,
   "metadata": {},
   "outputs": [
    {
     "data": {
      "text/plain": [
       "('automation', ['Salt', 'Ansible', 'Openstack'])"
      ]
     },
     "execution_count": 100,
     "metadata": {},
     "output_type": "execute_result"
    }
   ],
   "source": [
    "info2['frame_work'].popitem() # it doesnt take an argument it pop last element and return poped element"
   ]
  },
  {
   "cell_type": "code",
   "execution_count": 101,
   "metadata": {},
   "outputs": [
    {
     "data": {
      "text/plain": [
       "dict_keys(['name', 'year', 'Developed_by', 'versions', 'current_version', 'frame_work'])"
      ]
     },
     "execution_count": 101,
     "metadata": {},
     "output_type": "execute_result"
    }
   ],
   "source": [
    "info2.keys()"
   ]
  },
  {
   "cell_type": "code",
   "execution_count": 102,
   "metadata": {},
   "outputs": [
    {
     "data": {
      "text/plain": [
       "dict_values(['python', 1991, 'Guido Van Rossum', ['1.x', '2.x', '3.x'], 3.6, {'web': ['Django', 'Flask', 'Web2py'], 'application': ['kivi', 'wxpython', 'tkinter']}])"
      ]
     },
     "execution_count": 102,
     "metadata": {},
     "output_type": "execute_result"
    }
   ],
   "source": [
    "info2.values()    # ml and automation have already poped out."
   ]
  },
  {
   "cell_type": "code",
   "execution_count": 103,
   "metadata": {},
   "outputs": [
    {
     "data": {
      "text/plain": [
       "dict_items([('name', 'python'), ('year', 1991), ('Developed_by', 'Guido Van Rossum'), ('versions', ['1.x', '2.x', '3.x']), ('current_version', 3.6), ('frame_work', {'web': ['Django', 'Flask', 'Web2py'], 'application': ['kivi', 'wxpython', 'tkinter']})])"
      ]
     },
     "execution_count": 103,
     "metadata": {},
     "output_type": "execute_result"
    }
   ],
   "source": [
    "info2.items()  #returned paired value tuples.."
   ]
  },
  {
   "cell_type": "code",
   "execution_count": 104,
   "metadata": {},
   "outputs": [
    {
     "name": "stdout",
     "output_type": "stream",
     "text": [
      "Flask\n"
     ]
    }
   ],
   "source": [
    "print((list(info2.values())[5]['web'][1]))"
   ]
  },
  {
   "cell_type": "code",
   "execution_count": 105,
   "metadata": {},
   "outputs": [
    {
     "data": {
      "text/plain": [
       "{'name': 'python',\n",
       " 'year': 1991,\n",
       " 'Developed_by': 'Guido Van Rossum',\n",
       " 'versions': ['1.x', '2.x', '3.x'],\n",
       " 'current_version': 3.6,\n",
       " 'frame_work': {'web': ['Django', 'Flask', 'Web2py'],\n",
       "  'application': ['kivi', 'wxpython', 'tkinter']}}"
      ]
     },
     "execution_count": 105,
     "metadata": {},
     "output_type": "execute_result"
    }
   ],
   "source": [
    "info2"
   ]
  },
  {
   "cell_type": "code",
   "execution_count": 109,
   "metadata": {},
   "outputs": [
    {
     "name": "stdout",
     "output_type": "stream",
     "text": [
      "python\n"
     ]
    },
    {
     "data": {
      "text/plain": [
       "{'name': 'python',\n",
       " 'year': 1991,\n",
       " 'Developed_by': 'Guido Van Rossum',\n",
       " 'versions': ['1.x', '2.x', '3.x'],\n",
       " 'current_version': 3.6,\n",
       " 'frame_work': {'web': ['Django', 'Flask', 'Web2py'],\n",
       "  'application': ['kivi', 'wxpython', 'tkinter']},\n",
       " 'KKKK': 'WWWW'}"
      ]
     },
     "execution_count": 109,
     "metadata": {},
     "output_type": "execute_result"
    }
   ],
   "source": [
    "print(info2.get('name'))  # to get values of argumented keys\n",
    "info2.update({'KKKK':'WWWW'})  # to add subdictionary into dictionary MERGING A DICTIONARY\n",
    "info2"
   ]
  },
  {
   "cell_type": "code",
   "execution_count": 110,
   "metadata": {},
   "outputs": [
    {
     "data": {
      "text/plain": [
       "'WEREFSDDSFSDFWEE'"
      ]
     },
     "execution_count": 110,
     "metadata": {},
     "output_type": "execute_result"
    }
   ],
   "source": [
    "info2.setdefault('WERW','WEREFSDDSFSDFWEE') # it insert key,value in dict if given key is not in dict"
   ]
  },
  {
   "cell_type": "code",
   "execution_count": 111,
   "metadata": {},
   "outputs": [
    {
     "data": {
      "text/plain": [
       "{'name': 'python',\n",
       " 'year': 1991,\n",
       " 'Developed_by': 'Guido Van Rossum',\n",
       " 'versions': ['1.x', '2.x', '3.x'],\n",
       " 'current_version': 3.6,\n",
       " 'frame_work': {'web': ['Django', 'Flask', 'Web2py'],\n",
       "  'application': ['kivi', 'wxpython', 'tkinter']},\n",
       " 'KKKK': 'WWWW',\n",
       " 'WERW': 'WEREFSDDSFSDFWEE'}"
      ]
     },
     "execution_count": 111,
     "metadata": {},
     "output_type": "execute_result"
    }
   ],
   "source": [
    "info2"
   ]
  },
  {
   "cell_type": "code",
   "execution_count": 112,
   "metadata": {},
   "outputs": [
    {
     "name": "stdout",
     "output_type": "stream",
     "text": [
      "351 ns ± 9.55 ns per loop (mean ± std. dev. of 7 runs, 1000000 loops each)\n"
     ]
    }
   ],
   "source": [
    "%%timeit d = {'a':123,'b':456,'c':789,'d':159}\n",
    "a = 0\n",
    "for key in d.keys():\n",
    "    x = d[key]\n",
    "    a+=1"
   ]
  },
  {
   "cell_type": "code",
   "execution_count": 113,
   "metadata": {},
   "outputs": [
    {
     "name": "stdout",
     "output_type": "stream",
     "text": [
      "{'name': 'python', 'year': 1991, 'Developed_by': 'Guido Van Rossum', 'versions': ['1.x', '2.x', '3.x'], 'current_version': 3.6, 'frame_work': {'web': ['Django', 'Flask', 'Web2py'], 'application': ['kivi', 'wxpython', 'tkinter']}, 'KKKK': 'WWWW', 'WERW': 'WEREFSDDSFSDFWEE'}\n",
      "\n",
      "[('name', 'python'), ('year', 1991), ('Developed_by', 'Guido Van Rossum'), ('versions', ['1.x', '2.x', '3.x']), ('current_version', 3.6), ('frame_work', {'web': ['Django', 'Flask', 'Web2py'], 'application': ['kivi', 'wxpython', 'tkinter']}), ('KKKK', 'WWWW'), ('WERW', 'WEREFSDDSFSDFWEE')]\n"
     ]
    }
   ],
   "source": [
    "print(info2)\n",
    "print()\n",
    "print(list(info2.items()))"
   ]
  },
  {
   "cell_type": "code",
   "execution_count": 122,
   "metadata": {},
   "outputs": [
    {
     "name": "stdout",
     "output_type": "stream",
     "text": [
      "[('A', 12), ('B', 34), ('C', 63), ('D', 23)]\n"
     ]
    },
    {
     "data": {
      "text/plain": [
       "{'A': 12, 'B': 34, 'C': 63, 'D': 23}"
      ]
     },
     "execution_count": 122,
     "metadata": {},
     "output_type": "execute_result"
    }
   ],
   "source": [
    "sections = ['A','B','C','D']\n",
    "students = [12,34,63,23,70]\n",
    "d = {}\n",
    "combine = list(zip(sections,students)) # zip returns tuple pairs\n",
    "print(combine)\n",
    "d.update(combine)\n",
    "d"
   ]
  },
  {
   "cell_type": "code",
   "execution_count": 125,
   "metadata": {},
   "outputs": [
    {
     "name": "stdout",
     "output_type": "stream",
     "text": [
      "('A', 12) ('B', 34) ('C', 63) ('D', 23)\n"
     ]
    }
   ],
   "source": [
    "print(*[('A', 12), ('B', 34), ('C', 63), ('D', 23)])"
   ]
  },
  {
   "cell_type": "code",
   "execution_count": 126,
   "metadata": {},
   "outputs": [
    {
     "data": {
      "text/plain": [
       "{'A': 12, 'B': 34, 'C': 63, 'D': 23}"
      ]
     },
     "execution_count": 126,
     "metadata": {},
     "output_type": "execute_result"
    }
   ],
   "source": [
    "d"
   ]
  },
  {
   "cell_type": "code",
   "execution_count": 127,
   "metadata": {},
   "outputs": [
    {
     "data": {
      "text/plain": [
       "dict_keys(['A', 'B', 'C', 'D'])"
      ]
     },
     "execution_count": 127,
     "metadata": {},
     "output_type": "execute_result"
    }
   ],
   "source": [
    "d.keys()"
   ]
  },
  {
   "cell_type": "code",
   "execution_count": 128,
   "metadata": {},
   "outputs": [
    {
     "data": {
      "text/plain": [
       "dict_values([12, 34, 63, 23])"
      ]
     },
     "execution_count": 128,
     "metadata": {},
     "output_type": "execute_result"
    }
   ],
   "source": [
    "d.values()"
   ]
  },
  {
   "cell_type": "code",
   "execution_count": 129,
   "metadata": {},
   "outputs": [
    {
     "data": {
      "text/plain": [
       "dict_items([('A', 12), ('B', 34), ('C', 63), ('D', 23)])"
      ]
     },
     "execution_count": 129,
     "metadata": {},
     "output_type": "execute_result"
    }
   ],
   "source": [
    "d.items()"
   ]
  },
  {
   "cell_type": "code",
   "execution_count": 130,
   "metadata": {},
   "outputs": [
    {
     "name": "stdout",
     "output_type": "stream",
     "text": [
      "{'A': 12, 'B': 34, 'C': 63, 'D': 23, 'Q': 44, 'W': 66, 'E': 55, 't': 29}\n",
      "{}\n",
      "{'Q': 44, 'W': 66, 'E': 55, 't': 29}\n"
     ]
    }
   ],
   "source": [
    "combine2 = [[\"Q\",44],[\"W\",66],[\"E\",55],[\"t\",29]]\n",
    "d.update(combine2)\n",
    "print(d)\n",
    "d.clear()\n",
    "print(d)\n",
    "d = dict(combine2)  #we can also so by this\n",
    "print(d)"
   ]
  },
  {
   "cell_type": "code",
   "execution_count": 145,
   "metadata": {},
   "outputs": [
    {
     "name": "stdout",
     "output_type": "stream",
     "text": [
      "('a', 1)\n",
      "('b', 2)\n",
      "('c', 3)\n",
      "\n",
      "@@\n",
      "<zip object at 0x00000212C0552300>\n"
     ]
    }
   ],
   "source": [
    "# IMPORTANT zip() work as a iterator\n",
    "\n",
    "l1 = [1,2,3]\n",
    "l2 = ['a','b','c']\n",
    "c = zip(l2,l1)  #zip is an iterator so it is only one time use i.e either we assign in some variable or use in for loop\n",
    "a = list(c)\n",
    "for i in a:\n",
    "    print(i)\n",
    "#for j in c:\n",
    " #   print(j)\n",
    "print()\n",
    "print('@@')\n",
    "print(c)"
   ]
  },
  {
   "cell_type": "code",
   "execution_count": 146,
   "metadata": {},
   "outputs": [],
   "source": [
    "for j in c:\n",
    "    print(j)"
   ]
  },
  {
   "cell_type": "code",
   "execution_count": 147,
   "metadata": {},
   "outputs": [
    {
     "name": "stdout",
     "output_type": "stream",
     "text": [
      "<zip object at 0x00000212C0552300>\n"
     ]
    }
   ],
   "source": [
    "print(c)"
   ]
  },
  {
   "cell_type": "code",
   "execution_count": 157,
   "metadata": {},
   "outputs": [
    {
     "name": "stdout",
     "output_type": "stream",
     "text": [
      "a =  [(1, 'a'), (2, 'b'), (3, 'c')]\n",
      "b =  []\n"
     ]
    }
   ],
   "source": [
    "c = zip(l1,l2)\n",
    "a = list(c) # a refers to zip\n",
    "b = list(c) # b also refers to zip\n",
    "print('a = ',a)\n",
    "print('b = ',b)"
   ]
  },
  {
   "cell_type": "code",
   "execution_count": 154,
   "metadata": {},
   "outputs": [],
   "source": [
    "a = b"
   ]
  },
  {
   "cell_type": "code",
   "execution_count": 151,
   "metadata": {},
   "outputs": [
    {
     "name": "stdout",
     "output_type": "stream",
     "text": [
      "a =  []\n",
      "b =  []\n"
     ]
    }
   ],
   "source": [
    "print('a = ',a)\n",
    "print('b = ',b)"
   ]
  },
  {
   "cell_type": "code",
   "execution_count": null,
   "metadata": {},
   "outputs": [],
   "source": []
  },
  {
   "cell_type": "markdown",
   "metadata": {},
   "source": [
    "# 4. Tuples (2 functions[count,index]) "
   ]
  },
  {
   "cell_type": "code",
   "execution_count": 158,
   "metadata": {},
   "outputs": [
    {
     "name": "stdout",
     "output_type": "stream",
     "text": [
      "['__add__', '__class__', '__contains__', '__delattr__', '__dir__', '__doc__', '__eq__', '__format__', '__ge__', '__getattribute__', '__getitem__', '__getnewargs__', '__gt__', '__hash__', '__init__', '__init_subclass__', '__iter__', '__le__', '__len__', '__lt__', '__mul__', '__ne__', '__new__', '__reduce__', '__reduce_ex__', '__repr__', '__rmul__', '__setattr__', '__sizeof__', '__str__', '__subclasshook__', 'count', 'index']\n",
      "<class 'tuple'>\n",
      "0 1 2 3 4 5 6 7 8 9 10 11 12 13 14\n"
     ]
    }
   ],
   "source": [
    "#tuples are immutable i.e, we cannot changhe if we assign some values to tuples\n",
    "tupl = tuple((range(15)))\n",
    "print(dir(tupl))\n",
    "print(type(tupl))\n",
    "print(*tupl)"
   ]
  },
  {
   "cell_type": "code",
   "execution_count": 159,
   "metadata": {},
   "outputs": [
    {
     "name": "stdout",
     "output_type": "stream",
     "text": [
      "1\n"
     ]
    },
    {
     "data": {
      "text/plain": [
       "15"
      ]
     },
     "execution_count": 159,
     "metadata": {},
     "output_type": "execute_result"
    }
   ],
   "source": [
    "print(tupl.count(3))\n",
    "len(tupl)"
   ]
  },
  {
   "cell_type": "code",
   "execution_count": 163,
   "metadata": {},
   "outputs": [
    {
     "name": "stdout",
     "output_type": "stream",
     "text": [
      "14\n"
     ]
    }
   ],
   "source": [
    "print(tupl.index(14))"
   ]
  },
  {
   "cell_type": "code",
   "execution_count": 164,
   "metadata": {},
   "outputs": [
    {
     "name": "stdout",
     "output_type": "stream",
     "text": [
      "0  1  2  3  4  5  6  7  8  9  10  11  12  13  14  "
     ]
    }
   ],
   "source": [
    "for i in tupl:\n",
    "    print(i, end = '  ')"
   ]
  },
  {
   "cell_type": "markdown",
   "metadata": {},
   "source": [
    "# 5. sets (17 functions)\n",
    "Build an unordered collection of unique elements.\n",
    "\n",
    "1.set automatically remove dublicate occurences\n",
    "\n",
    "2.its order is random"
   ]
  },
  {
   "cell_type": "code",
   "execution_count": 183,
   "metadata": {},
   "outputs": [
    {
     "name": "stdout",
     "output_type": "stream",
     "text": [
      "<class 'set'>\n",
      "['__and__', '__class__', '__contains__', '__delattr__', '__dir__', '__doc__', '__eq__', '__format__', '__ge__', '__getattribute__', '__gt__', '__hash__', '__iand__', '__init__', '__init_subclass__', '__ior__', '__isub__', '__iter__', '__ixor__', '__le__', '__len__', '__lt__', '__ne__', '__new__', '__or__', '__rand__', '__reduce__', '__reduce_ex__', '__repr__', '__ror__', '__rsub__', '__rxor__', '__setattr__', '__sizeof__', '__str__', '__sub__', '__subclasshook__', '__xor__', 'add', 'clear', 'copy', 'difference', 'difference_update', 'discard', 'intersection', 'intersection_update', 'isdisjoint', 'issubset', 'issuperset', 'pop', 'remove', 'symmetric_difference', 'symmetric_difference_update', 'union', 'update']\n",
      "{1, 2, 3, 4, 5, 6, 35, 63432, 23}\n"
     ]
    }
   ],
   "source": [
    "s1 = {1,2,3,4,5,6,3,4,5,23,5,63432,3,35,5}\n",
    "print(type(s1))\n",
    "print(dir(s1))\n",
    "print(s1)"
   ]
  },
  {
   "cell_type": "code",
   "execution_count": 184,
   "metadata": {},
   "outputs": [
    {
     "name": "stdout",
     "output_type": "stream",
     "text": [
      "1 2 3 4 5 6 35 63432 23\n"
     ]
    }
   ],
   "source": [
    "print(*s1)"
   ]
  },
  {
   "cell_type": "code",
   "execution_count": 185,
   "metadata": {},
   "outputs": [
    {
     "name": "stdout",
     "output_type": "stream",
     "text": [
      "s2 :  {1, 2, 3, 4, 5, 134, 7, 11, 51, 52, 23}\n",
      "s1 :  {1, 2, 3, 4, 5, 6, 35, 63432, 23}\n"
     ]
    }
   ],
   "source": [
    "s2 = {2,3,1,52,2,134,23,4,23,51,11,5,7,3,2,4,2,1} \n",
    "print('s2 : ',s2)\n",
    "print('s1 : ',s1)"
   ]
  },
  {
   "cell_type": "code",
   "execution_count": 186,
   "metadata": {},
   "outputs": [
    {
     "name": "stdout",
     "output_type": "stream",
     "text": [
      "union :  {1, 2, 3, 4, 5, 6, 134, 63432, 7, 11, 23, 35, 51, 52}\n",
      "differences :  {63432, 35, 6}\n",
      "intersection :  {1, 2, 3, 4, 5, 23}\n",
      "s1 IsSubset of s2 :  False\n"
     ]
    }
   ],
   "source": [
    "print(\"union : \",s1.union(s2))\n",
    "print(\"differences : \",s1.difference(s2))\n",
    "print(\"intersection : \",s1.intersection(s2))\n",
    "print(\"s1 IsSubset of s2 : \",s1.issubset(s2))\n",
    "#s1.remove(99)\n"
   ]
  },
  {
   "cell_type": "code",
   "execution_count": 187,
   "metadata": {},
   "outputs": [
    {
     "name": "stdout",
     "output_type": "stream",
     "text": [
      "s1:  {1, 2, 3, 4, 5, 6, 35, 63432, 'asasas', 23}\n",
      "s2:  {1, 2, 3, 4, 5, 134, 7, 11, 51, 52, 23}\n",
      "s1:  {1, 2, 3, 4, 5, 134, 7, 11, 51, 52, 23}\n",
      "2279559379424 2279559379424\n"
     ]
    }
   ],
   "source": [
    "s1.add('asasas')\n",
    "print('s1: ',s1)\n",
    "s1 = s2 # keep in mind that we never dublicate variables like this bcz if we clean s1 thenn s2 is also clean.\n",
    "print('s2: ',s2)\n",
    "print('s1: ',s1)\n",
    "\n",
    "print(id(s1),id(s2))"
   ]
  },
  {
   "cell_type": "code",
   "execution_count": 188,
   "metadata": {},
   "outputs": [
    {
     "name": "stdout",
     "output_type": "stream",
     "text": [
      "2279559379424 2279559379424 2279559380320\n"
     ]
    },
    {
     "data": {
      "text/plain": [
       "{1, 2, 3, 4, 5, 7, 11, 23, 51, 52, 134}"
      ]
     },
     "execution_count": 188,
     "metadata": {},
     "output_type": "execute_result"
    }
   ],
   "source": [
    "s3  = s1.copy()\n",
    "print(id(s1),id(s2),id(s3))\n",
    "s3"
   ]
  },
  {
   "cell_type": "code",
   "execution_count": 189,
   "metadata": {},
   "outputs": [
    {
     "name": "stdout",
     "output_type": "stream",
     "text": [
      "{1, 2, 3, 4, 5, 134, 7, 11, 51, 52, 23}\n",
      "set()\n"
     ]
    }
   ],
   "source": [
    "s1.clear()\n",
    "print(s3)\n",
    "print(s1)\n"
   ]
  },
  {
   "cell_type": "code",
   "execution_count": 190,
   "metadata": {},
   "outputs": [
    {
     "name": "stdout",
     "output_type": "stream",
     "text": [
      "1\n"
     ]
    }
   ],
   "source": [
    "s3.add(199999)  #add takes exactly one argument\n",
    "print(s3.pop())  # randomly pop an element"
   ]
  },
  {
   "cell_type": "code",
   "execution_count": 191,
   "metadata": {},
   "outputs": [
    {
     "name": "stdout",
     "output_type": "stream",
     "text": [
      "{0, 1, 2, 3, 4, 5, 134, 7, 6, 8, 9, 11, 51, 52, 23, 199999}\n"
     ]
    }
   ],
   "source": [
    "s3.update(range(10))  #update takes an iterator while andd takes single element\n",
    "print(s3)"
   ]
  },
  {
   "cell_type": "code",
   "execution_count": 192,
   "metadata": {},
   "outputs": [
    {
     "data": {
      "text/plain": [
       "{'python': 'perl', 'perl': 'Berlin'}"
      ]
     },
     "execution_count": 192,
     "metadata": {},
     "output_type": "execute_result"
    }
   ],
   "source": [
    "cities = dict([(\"python\",\"perl\"),(\"perl\",\"Berlin\")])\n",
    "cities"
   ]
  },
  {
   "cell_type": "code",
   "execution_count": 194,
   "metadata": {},
   "outputs": [
    {
     "name": "stdout",
     "output_type": "stream",
     "text": [
      "python perl\n"
     ]
    }
   ],
   "source": [
    "print(*cities)"
   ]
  },
  {
   "cell_type": "code",
   "execution_count": 196,
   "metadata": {},
   "outputs": [
    {
     "data": {
      "text/plain": [
       "[('python', 'perl'), ('perl', 'Berlin')]"
      ]
     },
     "execution_count": 196,
     "metadata": {},
     "output_type": "execute_result"
    }
   ],
   "source": [
    "cities = list([(\"python\",\"perl\"),(\"perl\",\"Berlin\")])\n",
    "cities"
   ]
  },
  {
   "cell_type": "code",
   "execution_count": 197,
   "metadata": {},
   "outputs": [
    {
     "name": "stdout",
     "output_type": "stream",
     "text": [
      "💋💋💋💋\n"
     ]
    }
   ],
   "source": [
    "print(\"💋💋💋💋\")"
   ]
  },
  {
   "cell_type": "code",
   "execution_count": 199,
   "metadata": {},
   "outputs": [
    {
     "data": {
      "text/plain": [
       "\"[('python', 'perl'), ('perl', 'Berlin')]\""
      ]
     },
     "execution_count": 199,
     "metadata": {},
     "output_type": "execute_result"
    }
   ],
   "source": [
    "cities = str([(\"python\",\"perl\"),(\"perl\",\"Berlin\")])\n",
    "cities"
   ]
  },
  {
   "cell_type": "code",
   "execution_count": 201,
   "metadata": {},
   "outputs": [
    {
     "data": {
      "text/plain": [
       "(('python', 'perl'), ('perl', 'Berlin'))"
      ]
     },
     "execution_count": 201,
     "metadata": {},
     "output_type": "execute_result"
    }
   ],
   "source": [
    "cities = tuple([(\"python\",\"perl\"),(\"perl\",\"Berlin\")])\n",
    "cities"
   ]
  },
  {
   "cell_type": "code",
   "execution_count": 202,
   "metadata": {},
   "outputs": [
    {
     "data": {
      "text/plain": [
       "{('perl', 'Berlin'), ('python', 'perl')}"
      ]
     },
     "execution_count": 202,
     "metadata": {},
     "output_type": "execute_result"
    }
   ],
   "source": [
    "cities = set([(\"python\",\"perl\"),(\"perl\",\"Berlin\")])\n",
    "cities"
   ]
  },
  {
   "cell_type": "markdown",
   "metadata": {},
   "source": [
    "actually set contains elements inorder manner which means we cannot traverse to a paarticular elements like[1] bcz it is not compulsary that 1 index element of s is always same. So, ultimately we can't able to create 2D list into set bcz if we create 2D list then how we can traverse to that element.\n",
    "\n",
    "so set is a collection of 1D Array"
   ]
  },
  {
   "cell_type": "code",
   "execution_count": 203,
   "metadata": {
    "scrolled": true
   },
   "outputs": [
    {
     "name": "stdout",
     "output_type": "stream",
     "text": [
      "<class 'list'>\n",
      "{'hardik', 'vishal', 'harshwardhan', 'modi', 'Gaurav'}\n",
      "['__and__', '__class__', '__contains__', '__delattr__', '__dir__', '__doc__', '__eq__', '__format__', '__ge__', '__getattribute__', '__gt__', '__hash__', '__iand__', '__init__', '__init_subclass__', '__ior__', '__isub__', '__iter__', '__ixor__', '__le__', '__len__', '__lt__', '__ne__', '__new__', '__or__', '__rand__', '__reduce__', '__reduce_ex__', '__repr__', '__ror__', '__rsub__', '__rxor__', '__setattr__', '__sizeof__', '__str__', '__sub__', '__subclasshook__', '__xor__', 'add', 'clear', 'copy', 'difference', 'difference_update', 'discard', 'intersection', 'intersection_update', 'isdisjoint', 'issubset', 'issuperset', 'pop', 'remove', 'symmetric_difference', 'symmetric_difference_update', 'union', 'update']\n"
     ]
    }
   ],
   "source": [
    "name = ['Gaurav','vishal','harshwardhan','modi','hardik']\n",
    "new_set = ((name)) # it takes single value not iterator () this cannot convert list into tuple but tuple() does.\n",
    "print(type(new_set))\n",
    "new_set = {'Gaurav','vishal','harshwardhan','modi','hardik'}\n",
    "print(new_set)\n",
    "#new_set2 = {[1,2,3,4,5]} set cannot take list\n",
    "a = set([1,2,2,2,3,3,5,6,6,5,3,7,7])\n",
    "#b = {[1,2,2,2,3,3,5,6,6,5,3,7,7]}  wrong way to assign set\n",
    "a\n",
    "print(dir(a))"
   ]
  },
  {
   "cell_type": "code",
   "execution_count": 210,
   "metadata": {
    "scrolled": true
   },
   "outputs": [
    {
     "name": "stdout",
     "output_type": "stream",
     "text": [
      "{1, 2, 3, 5, 6, 7, 'sdffsd', 'asdfds', 'fdgdfsgf'}\n",
      "[1, 2, 3, 4, 5]\n",
      "x-y-z:  {'a', 'e'}\n",
      "x.difference(y) :  None\n"
     ]
    },
    {
     "data": {
      "text/plain": [
       "{'a', 'b', 'c', 'd', 'e'}"
      ]
     },
     "execution_count": 210,
     "metadata": {},
     "output_type": "execute_result"
    }
   ],
   "source": [
    "a.update(['asdfds','sdffsd','fdgdfsgf'])\n",
    "print(a)\n",
    "b = [1,2,3,4,5]\n",
    "print(b)\n",
    "a.difference(b)  # it is possible to take a difference bwn list and set\n",
    "x = {'a','b','c','d','e'}\n",
    "y = {\"b\",\"c\"}\n",
    "z = {\"c\",\"d\"}\n",
    "print(\"x-y-z: \",x-y-z)  # similar with  \n",
    "print(\"x.difference(y) : \",x.difference(y).difference_update(z))\n",
    "#x.differece_update(y)  # it take differece and remove element from 'x'\n",
    "x"
   ]
  },
  {
   "cell_type": "code",
   "execution_count": 211,
   "metadata": {},
   "outputs": [
    {
     "name": "stdout",
     "output_type": "stream",
     "text": [
      "{'c', 'd', 'e', 'b', 'a'}\n"
     ]
    }
   ],
   "source": [
    "x.discard('q')\n",
    "print(x)"
   ]
  },
  {
   "cell_type": "markdown",
   "metadata": {},
   "source": [
    "#Frozen SEt\n",
    "\n",
    "Difference between frozenset and set is that this is immutable we cannot add or remove element from frozenset\n",
    "\n",
    "Build an immutabe unordered collection of unique elemets."
   ]
  },
  {
   "cell_type": "code",
   "execution_count": 212,
   "metadata": {},
   "outputs": [
    {
     "name": "stdout",
     "output_type": "stream",
     "text": [
      "frozenset({1, 2, 3, 4, 41})\n",
      "<class 'frozenset'>\n",
      "['__and__', '__class__', '__contains__', '__delattr__', '__dir__', '__doc__', '__eq__', '__format__', '__ge__', '__getattribute__', '__gt__', '__hash__', '__init__', '__init_subclass__', '__iter__', '__le__', '__len__', '__lt__', '__ne__', '__new__', '__or__', '__rand__', '__reduce__', '__reduce_ex__', '__repr__', '__ror__', '__rsub__', '__rxor__', '__setattr__', '__sizeof__', '__str__', '__sub__', '__subclasshook__', '__xor__', 'copy', 'difference', 'intersection', 'isdisjoint', 'issubset', 'issuperset', 'symmetric_difference', 'union']\n"
     ]
    },
    {
     "data": {
      "text/plain": [
       "frozenset({1, 2, 3, 4, 41})"
      ]
     },
     "execution_count": 212,
     "metadata": {},
     "output_type": "execute_result"
    }
   ],
   "source": [
    "frozen = frozenset([1,2,3,41,2,3,4,1,3,3,4])  # it is just like tuple in this repeatation is not allow\n",
    "print(frozen)\n",
    "print(type(frozen))\n",
    "print(dir(frozen))\n",
    "frozen\n"
   ]
  },
  {
   "cell_type": "code",
   "execution_count": 213,
   "metadata": {},
   "outputs": [
    {
     "name": "stdout",
     "output_type": "stream",
     "text": [
      "False\n",
      "True\n"
     ]
    }
   ],
   "source": [
    "x = {\"a\",\"b\",\"c\"}\n",
    "y = {\"c\",\"d\",\"e\"}\n",
    "print(x.isdisjoint(y)) # x and y are connected or not if they connected then return false\n",
    " \n",
    "x = {\"a\",\"b\",\"c\"}\n",
    "y = {\"d\",\"e\",\"f\"}\n",
    "print(x.isdisjoint(y))"
   ]
  },
  {
   "cell_type": "code",
   "execution_count": 214,
   "metadata": {},
   "outputs": [
    {
     "data": {
      "text/plain": [
       "{'a', 'b', 'c', 'd', 'e', 'f'}"
      ]
     },
     "execution_count": 214,
     "metadata": {},
     "output_type": "execute_result"
    }
   ],
   "source": [
    "x.symmetric_difference(y)  # common ke alwa sab kuch return karke dega\n"
   ]
  },
  {
   "cell_type": "code",
   "execution_count": 215,
   "metadata": {},
   "outputs": [
    {
     "name": "stdout",
     "output_type": "stream",
     "text": [
      "True\n",
      "True\n",
      "True\n",
      "True\n",
      "False\n",
      "True\n"
     ]
    }
   ],
   "source": [
    "x = {\"a\",\"b\",\"c\",\"d\",\"e\"}\n",
    "y = {\"c\",\"d\"}\n",
    "print(x.issuperset(y))\n",
    "print(x > y)\n",
    "print(x >= y)\n",
    "print(x >= x)\n",
    "print(x > x)\n",
    "print(x.issuperset(x))"
   ]
  },
  {
   "cell_type": "code",
   "execution_count": 216,
   "metadata": {},
   "outputs": [
    {
     "name": "stdout",
     "output_type": "stream",
     "text": [
      "['__and__', '__class__', '__contains__', '__delattr__', '__dir__', '__doc__', '__eq__', '__format__', '__ge__', '__getattribute__', '__gt__', '__hash__', '__init__', '__init_subclass__', '__iter__', '__le__', '__len__', '__lt__', '__ne__', '__new__', '__or__', '__rand__', '__reduce__', '__reduce_ex__', '__repr__', '__ror__', '__rsub__', '__rxor__', '__setattr__', '__sizeof__', '__str__', '__sub__', '__subclasshook__', '__xor__', 'copy', 'difference', 'intersection', 'isdisjoint', 'issubset', 'issuperset', 'symmetric_difference', 'union']\n"
     ]
    }
   ],
   "source": [
    "print(dir(frozenset))"
   ]
  },
  {
   "cell_type": "code",
   "execution_count": 219,
   "metadata": {},
   "outputs": [
    {
     "data": {
      "text/plain": [
       "[(1, 3), (1, 4), (2, 3), (2, 1), (2, 4), (3, 1), (3, 4)]"
      ]
     },
     "execution_count": 219,
     "metadata": {},
     "output_type": "execute_result"
    }
   ],
   "source": [
    "[(x, y) for x in [1,2,3] for y in [3,1,4] if x != y]\n",
    "[(1, 3), (1, 4), (2, 3), (2, 1), (2, 4), (3, 1), (3, 4)]"
   ]
  },
  {
   "cell_type": "code",
   "execution_count": null,
   "metadata": {},
   "outputs": [],
   "source": []
  }
 ],
 "metadata": {
  "kernelspec": {
   "display_name": "Python 3",
   "language": "python",
   "name": "python3"
  },
  "language_info": {
   "codemirror_mode": {
    "name": "ipython",
    "version": 3
   },
   "file_extension": ".py",
   "mimetype": "text/x-python",
   "name": "python",
   "nbconvert_exporter": "python",
   "pygments_lexer": "ipython3",
   "version": "3.8.3"
  }
 },
 "nbformat": 4,
 "nbformat_minor": 4
}
